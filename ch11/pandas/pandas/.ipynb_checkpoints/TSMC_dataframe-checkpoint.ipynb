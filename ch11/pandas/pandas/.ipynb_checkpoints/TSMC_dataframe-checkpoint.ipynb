{
 "cells": [
  {
   "cell_type": "code",
   "execution_count": 11,
   "metadata": {
    "collapsed": true
   },
   "outputs": [],
   "source": [
    "import numpy as np\n",
    "import pandas as pd"
   ]
  },
  {
   "cell_type": "code",
   "execution_count": 12,
   "metadata": {},
   "outputs": [
    {
     "name": "stdout",
     "output_type": "stream",
     "text": [
      "                   日期           成交股數   成交金額    開盤價    最高價    最低價  收盤價   漲跌價差  \\\n",
      "106/11/01  20,465,054  4,975,624,502  243.5  245.0  241.5  242.5 -0.5  6,464   \n",
      "106/11/02  16,309,342  3,940,181,714  242.0  242.5  240.5  241.0 -1.5  5,912   \n",
      "106/11/03  18,327,682  4,386,122,470  240.5  241.0  238.5  239.0 -2.0  5,621   \n",
      "106/11/06  21,029,515  5,063,670,900  243.5  244.0  239.0  239.5  0.5  6,601   \n",
      "106/11/07  21,689,261  5,266,500,464  242.0  244.0  241.5  244.0  4.5  6,729   \n",
      "106/11/08  14,579,103  3,536,455,029  243.0  243.5  242.0  242.5 -1.5  4,610   \n",
      "106/11/09  21,366,949  5,151,628,572  240.5  243.0  240.0  241.0 -1.5  6,339   \n",
      "106/11/10  15,061,296  3,629,826,936  240.0  242.0  239.5  240.5 -0.5  4,465   \n",
      "\n",
      "           成交筆數  \n",
      "106/11/01   NaN  \n",
      "106/11/02   NaN  \n",
      "106/11/03   NaN  \n",
      "106/11/06   NaN  \n",
      "106/11/07   NaN  \n",
      "106/11/08   NaN  \n",
      "106/11/09   NaN  \n",
      "106/11/10   NaN  \n",
      "106/11/01    242.5\n",
      "106/11/02    241.0\n",
      "106/11/03    239.0\n",
      "106/11/06    239.5\n",
      "106/11/07    244.0\n",
      "106/11/08    242.5\n",
      "106/11/09    241.0\n",
      "106/11/10    240.5\n",
      "Name: 最低價, dtype: float64\n",
      "106/11/01    485.0\n",
      "106/11/02    482.0\n",
      "106/11/03    478.0\n",
      "106/11/06    479.0\n",
      "106/11/07    488.0\n",
      "106/11/08    485.0\n",
      "106/11/09    482.0\n",
      "106/11/10    481.0\n",
      "Name: 最低價, dtype: float64\n"
     ]
    }
   ],
   "source": [
    "df2 = pd.read_csv('./data/201711_F3_1_8_2330.csv', encoding='big5', \n",
    "                   error_bad_lines=False,header=None,names=[\"日期\", \"成交股數\", \"成交金額\", \"開盤價\"\n",
    "                                                            , \"最高價\", \"最低價\", \"收盤價\", \"漲跌價差\", \"成交筆數\"]) \n",
    "print(df2)\n",
    "df=pd.DataFrame(df2)\n",
    "print(df.iloc[:,5])\n"
   ]
  },
  {
   "cell_type": "code",
   "execution_count": 13,
   "metadata": {},
   "outputs": [
    {
     "name": "stdout",
     "output_type": "stream",
     "text": [
      "(8, 9)\n",
      "<class 'pandas.core.frame.DataFrame'>\n",
      "Index: 8 entries, 106/11/01 to 106/11/10\n",
      "Data columns (total 9 columns):\n",
      "日期      8 non-null object\n",
      "成交股數    8 non-null object\n",
      "成交金額    8 non-null float64\n",
      "開盤價     8 non-null float64\n",
      "最高價     8 non-null float64\n",
      "最低價     8 non-null float64\n",
      "收盤價     8 non-null float64\n",
      "漲跌價差    8 non-null object\n",
      "成交筆數    0 non-null float64\n",
      "dtypes: float64(6), object(3)\n",
      "memory usage: 640.0+ bytes\n",
      "None\n"
     ]
    }
   ],
   "source": [
    "print(dfa2.shape)\n",
    "print(dfa2.info())"
   ]
  }
 ],
 "metadata": {
  "kernelspec": {
   "display_name": "Python 3",
   "language": "python",
   "name": "python3"
  },
  "language_info": {
   "codemirror_mode": {
    "name": "ipython",
    "version": 3
   },
   "file_extension": ".py",
   "mimetype": "text/x-python",
   "name": "python",
   "nbconvert_exporter": "python",
   "pygments_lexer": "ipython3",
   "version": "3.6.3"
  }
 },
 "nbformat": 4,
 "nbformat_minor": 2
}
